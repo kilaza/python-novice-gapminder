{
 "cells": [
  {
   "cell_type": "code",
   "execution_count": 1,
   "metadata": {
    "collapsed": false
   },
   "outputs": [
    {
     "name": "stdout",
     "output_type": "stream",
     "text": [
      "Assessment1Discussion.ipynb          \u001b[0m\u001b[01;34m_episodes\u001b[0m/\r\n",
      "\u001b[01;34massets\u001b[0m/                              \u001b[01;34m_episodes_rmd\u001b[0m/\r\n",
      "AUTHORS                              \u001b[01;34m_extras\u001b[0m/\r\n",
      "bases2.txt                           favicon-dc.ico\r\n",
      "bases3.txt                           favicon-swc.ico\r\n",
      "bases.txt                            \u001b[01;34mfig\u001b[0m/\r\n",
      "\u001b[01;34mbin\u001b[0m/                                 \u001b[01;34mfiles\u001b[0m/\r\n",
      "CITATION                             greetings2.txt\r\n",
      "\u001b[01;34mcode\u001b[0m/                                greetings3.txt\r\n",
      "CONDUCT.md                           greetings4.txt\r\n",
      "_config.yml                          greetings.txt\r\n",
      "CONTRIBUTING.md                      \u001b[01;34m_includes\u001b[0m/\r\n",
      "\u001b[01;34mdata\u001b[0m/                                index.md\r\n",
      "Day10Files.ipynb                     \u001b[01;34m_layouts\u001b[0m/\r\n",
      "Day1.ipynb                           LICENSE.md\r\n",
      "Day2.ipynb                           Makefile\r\n",
      "Day3ListsAndMore.ipynb               marks2.txt\r\n",
      "Day3plotting.ipynb                   marks.txt\r\n",
      "Day4Loops.ipynb                      README.md\r\n",
      "Day5LoopingOverTasks.ipynb           reference.md\r\n",
      "Day6Functions.ipynb                  sequence.fasta\r\n",
      "Day7PythonSetsAndDictionaries.ipynb  setup.md\r\n",
      "Day8StringFunctions.ipynb            tb_sample.gff3\r\n",
      "Day9Answers.ipynb                    Untitled.ipynb\r\n",
      "Day9ThreeProblems.ipynb\r\n"
     ]
    }
   ],
   "source": [
    "ls"
   ]
  },
  {
   "cell_type": "code",
   "execution_count": 2,
   "metadata": {
    "collapsed": true
   },
   "outputs": [],
   "source": [
    "input = open('tb_sample.gff3')"
   ]
  },
  {
   "cell_type": "code",
   "execution_count": 3,
   "metadata": {
    "collapsed": true
   },
   "outputs": [],
   "source": [
    "data = input.read()"
   ]
  },
  {
   "cell_type": "code",
   "execution_count": 6,
   "metadata": {
    "collapsed": true
   },
   "outputs": [],
   "source": [
    "input = open('tb_sample.gff3')"
   ]
  },
  {
   "cell_type": "code",
   "execution_count": 7,
   "metadata": {
    "collapsed": true
   },
   "outputs": [],
   "source": [
    "line1 = next(input)"
   ]
  },
  {
   "cell_type": "code",
   "execution_count": 8,
   "metadata": {
    "collapsed": false
   },
   "outputs": [
    {
     "data": {
      "text/plain": [
       "'##gff-version   3\\n'"
      ]
     },
     "execution_count": 8,
     "metadata": {},
     "output_type": "execute_result"
    }
   ],
   "source": [
    "line1"
   ]
  },
  {
   "cell_type": "code",
   "execution_count": 9,
   "metadata": {
    "collapsed": false
   },
   "outputs": [
    {
     "data": {
      "text/plain": [
       "_io.TextIOWrapper"
      ]
     },
     "execution_count": 9,
     "metadata": {},
     "output_type": "execute_result"
    }
   ],
   "source": [
    "type(input)"
   ]
  },
  {
   "cell_type": "code",
   "execution_count": 10,
   "metadata": {
    "collapsed": false
   },
   "outputs": [
    {
     "data": {
      "text/plain": [
       "4"
      ]
     },
     "execution_count": 10,
     "metadata": {},
     "output_type": "execute_result"
    }
   ],
   "source": [
    "len('abcd')"
   ]
  },
  {
   "cell_type": "code",
   "execution_count": 11,
   "metadata": {
    "collapsed": false
   },
   "outputs": [
    {
     "ename": "TypeError",
     "evalue": "object of type '_io.TextIOWrapper' has no len()",
     "output_type": "error",
     "traceback": [
      "\u001b[1;31m---------------------------------------------------------------------------\u001b[0m",
      "\u001b[1;31mTypeError\u001b[0m                                 Traceback (most recent call last)",
      "\u001b[1;32m<ipython-input-11-37ac4dad803c>\u001b[0m in \u001b[0;36m<module>\u001b[1;34m()\u001b[0m\n\u001b[1;32m----> 1\u001b[1;33m \u001b[0mlen\u001b[0m\u001b[1;33m(\u001b[0m\u001b[0minput\u001b[0m\u001b[1;33m)\u001b[0m\u001b[1;33m\u001b[0m\u001b[0m\n\u001b[0m",
      "\u001b[1;31mTypeError\u001b[0m: object of type '_io.TextIOWrapper' has no len()"
     ]
    }
   ],
   "source": [
    "len(input)"
   ]
  },
  {
   "cell_type": "code",
   "execution_count": 12,
   "metadata": {
    "collapsed": false
   },
   "outputs": [
    {
     "name": "stdout",
     "output_type": "stream",
     "text": [
      "1000\n"
     ]
    }
   ],
   "source": [
    "input = open('tb_sample.gff3')\n",
    "count = 0\n",
    "for line in input:\n",
    "    count = count + 1\n",
    "print(count)"
   ]
  },
  {
   "cell_type": "code",
   "execution_count": 13,
   "metadata": {
    "collapsed": false
   },
   "outputs": [
    {
     "data": {
      "text/plain": [
       "method"
      ]
     },
     "execution_count": 13,
     "metadata": {},
     "output_type": "execute_result"
    }
   ],
   "source": [
    "type(__builtin__.input)"
   ]
  },
  {
   "cell_type": "code",
   "execution_count": 16,
   "metadata": {
    "collapsed": false
   },
   "outputs": [
    {
     "name": "stdout",
     "output_type": "stream",
     "text": [
      "What is your name?Peter\n"
     ]
    },
    {
     "data": {
      "text/plain": [
       "'Peter'"
      ]
     },
     "execution_count": 16,
     "metadata": {},
     "output_type": "execute_result"
    }
   ],
   "source": [
    "# because I called my file variable input\n",
    "# I now need to use __builtin__ to access\n",
    "# the Python builtin function input()\n",
    "__builtin__.input('What is your name?')"
   ]
  },
  {
   "cell_type": "code",
   "execution_count": 15,
   "metadata": {
    "collapsed": false
   },
   "outputs": [
    {
     "name": "stdout",
     "output_type": "stream",
     "text": [
      "What is your name?1 + 1\n"
     ]
    },
    {
     "data": {
      "text/plain": [
       "'1 + 1'"
      ]
     },
     "execution_count": 15,
     "metadata": {},
     "output_type": "execute_result"
    }
   ],
   "source": [
    "__builtin__.input('What is your name?')"
   ]
  },
  {
   "cell_type": "code",
   "execution_count": 18,
   "metadata": {
    "collapsed": false
   },
   "outputs": [
    {
     "name": "stdout",
     "output_type": "stream",
     "text": [
      "796\n"
     ]
    }
   ],
   "source": [
    "with open('tb_sample.gff3') as input:\n",
    "    count = 0\n",
    "    for line in input:\n",
    "        if line.startswith('#'):\n",
    "            continue\n",
    "        count += 1\n",
    "    print(count)"
   ]
  },
  {
   "cell_type": "code",
   "execution_count": 21,
   "metadata": {
    "collapsed": true
   },
   "outputs": [],
   "source": [
    "def head(inputfile, n=10):\n",
    "    count = 0\n",
    "    for line in input:\n",
    "        if count >= n:\n",
    "            break\n",
    "        count += 1\n",
    "        print(line, end='')"
   ]
  },
  {
   "cell_type": "code",
   "execution_count": 22,
   "metadata": {
    "collapsed": false,
    "scrolled": false
   },
   "outputs": [
    {
     "name": "stdout",
     "output_type": "stream",
     "text": [
      "##gff-version   3\n",
      "##sequence-region   Chromosome 1 4410929\n",
      "#!genome-build European Nucleotide Archive ASM19595v2\n",
      "#!genome-version GCA_000195955.2\n",
      "#!genome-date 2015-02\n",
      "#!genome-build-accession GCA_000195955.2\n",
      "#!genebuild-last-updated 2015-02\n",
      "Chromosome\tena\tgene\t1\t1524\t.\t+\t.\tID=gene:Rv0001;Name=dnaA;biotype=protein_coding;description=Chromosomal replication initiator protein DnaA;gene_id=Rv0001;logic_name=ena;version=1\n",
      "Chromosome\tena\ttranscript\t1\t1524\t.\t+\t.\tID=transcript:CCP42723;Parent=gene:Rv0001;Name=dnaA-1;biotype=protein_coding;transcript_id=CCP42723;version=1\n",
      "Chromosome\tena\texon\t1\t1524\t.\t+\t.\tParent=transcript:CCP42723;Name=CCP42723-1;constitutive=1;ensembl_end_phase=0;ensembl_phase=0;exon_id=CCP42723-1;rank=1;version=1\n"
     ]
    }
   ],
   "source": [
    "with open('tb_sample.gff3') as input:\n",
    "    head(input)"
   ]
  },
  {
   "cell_type": "code",
   "execution_count": 25,
   "metadata": {
    "collapsed": false,
    "scrolled": true
   },
   "outputs": [
    {
     "name": "stdout",
     "output_type": "stream",
     "text": [
      "##gff-version   3\n",
      "\n",
      "##sequence-region   Chromosome 1 4410929\n",
      "\n",
      "#!genome-build European Nucleotide Archive ASM19595v2\n",
      "\n",
      "#!genome-version GCA_000195955.2\n",
      "\n",
      "#!genome-date 2015-02\n",
      "\n",
      "#!genome-build-accession GCA_000195955.2\n",
      "\n",
      "#!genebuild-last-updated 2015-02\n",
      "\n",
      "Chromosome\tena\tgene\t1\t1524\t.\t+\t.\tID=gene:Rv0001;Name=dnaA;biotype=protein_coding;description=Chromosomal replication initiator protein DnaA;gene_id=Rv0001;logic_name=ena;version=1\n",
      "\n",
      "Chromosome\tena\ttranscript\t1\t1524\t.\t+\t.\tID=transcript:CCP42723;Parent=gene:Rv0001;Name=dnaA-1;biotype=protein_coding;transcript_id=CCP42723;version=1\n",
      "\n",
      "Chromosome\tena\texon\t1\t1524\t.\t+\t.\tParent=transcript:CCP42723;Name=CCP42723-1;constitutive=1;ensembl_end_phase=0;ensembl_phase=0;exon_id=CCP42723-1;rank=1;version=1\n",
      "\n"
     ]
    }
   ],
   "source": [
    "def head2(inputfile, n=10):\n",
    "    count = 0\n",
    "    for line in input:\n",
    "        if count >= n:\n",
    "            break\n",
    "        count += 1\n",
    "        print(line)\n",
    "with open('tb_sample.gff3') as input:\n",
    "    head2(input)"
   ]
  },
  {
   "cell_type": "code",
   "execution_count": 28,
   "metadata": {
    "collapsed": true
   },
   "outputs": [],
   "source": [
    "def head_to_list(inputfile, n=10):\n",
    "    \"\"\"Read n lines from the start of the file and return\n",
    "    a list containing the lines (with end of lines removed)\"\"\"\n",
    "    count = 0\n",
    "    lines = []\n",
    "    for line in inputfile:\n",
    "        if count >= n:\n",
    "            break\n",
    "        count += 1\n",
    "        stripped_line = line.rstrip()\n",
    "        lines.append(stripped_line)\n",
    "    return(lines)"
   ]
  },
  {
   "cell_type": "code",
   "execution_count": 30,
   "metadata": {
    "collapsed": false
   },
   "outputs": [],
   "source": [
    "with open('tb_sample.gff3') as input:\n",
    "    data = head_to_list(input, n=20)"
   ]
  },
  {
   "cell_type": "code",
   "execution_count": 31,
   "metadata": {
    "collapsed": false
   },
   "outputs": [
    {
     "data": {
      "text/plain": [
       "['##gff-version   3',\n",
       " '##sequence-region   Chromosome 1 4410929',\n",
       " '#!genome-build European Nucleotide Archive ASM19595v2',\n",
       " '#!genome-version GCA_000195955.2',\n",
       " '#!genome-date 2015-02',\n",
       " '#!genome-build-accession GCA_000195955.2',\n",
       " '#!genebuild-last-updated 2015-02',\n",
       " 'Chromosome\\tena\\tgene\\t1\\t1524\\t.\\t+\\t.\\tID=gene:Rv0001;Name=dnaA;biotype=protein_coding;description=Chromosomal replication initiator protein DnaA;gene_id=Rv0001;logic_name=ena;version=1',\n",
       " 'Chromosome\\tena\\ttranscript\\t1\\t1524\\t.\\t+\\t.\\tID=transcript:CCP42723;Parent=gene:Rv0001;Name=dnaA-1;biotype=protein_coding;transcript_id=CCP42723;version=1',\n",
       " 'Chromosome\\tena\\texon\\t1\\t1524\\t.\\t+\\t.\\tParent=transcript:CCP42723;Name=CCP42723-1;constitutive=1;ensembl_end_phase=0;ensembl_phase=0;exon_id=CCP42723-1;rank=1;version=1',\n",
       " 'Chromosome\\tena\\tCDS\\t1\\t1524\\t.\\t+\\t0\\tID=CDS:CCP42723;Parent=transcript:CCP42723;protein_id=CCP42723',\n",
       " '###',\n",
       " 'Chromosome\\tena\\tgene\\t2052\\t3260\\t.\\t+\\t.\\tID=gene:Rv0002;Name=dnaN;biotype=protein_coding;description=DNA polymerase III (beta chain) DnaN (DNA nucleotidyltransferase);gene_id=Rv0002;logic_name=ena;version=1',\n",
       " 'Chromosome\\tena\\ttranscript\\t2052\\t3260\\t.\\t+\\t.\\tID=transcript:CCP42724;Parent=gene:Rv0002;Name=dnaN-1;biotype=protein_coding;transcript_id=CCP42724;version=1',\n",
       " 'Chromosome\\tena\\texon\\t2052\\t3260\\t.\\t+\\t.\\tParent=transcript:CCP42724;Name=CCP42724-1;constitutive=1;ensembl_end_phase=0;ensembl_phase=0;exon_id=CCP42724-1;rank=1;version=1',\n",
       " 'Chromosome\\tena\\tCDS\\t2052\\t3260\\t.\\t+\\t0\\tID=CDS:CCP42724;Parent=transcript:CCP42724;protein_id=CCP42724',\n",
       " '###',\n",
       " 'Chromosome\\tena\\tgene\\t3280\\t4437\\t.\\t+\\t.\\tID=gene:Rv0003;Name=recF;biotype=protein_coding;description=DNA replication and repair protein RecF (single-strand DNA binding protein);gene_id=Rv0003;logic_name=ena;version=1',\n",
       " 'Chromosome\\tena\\ttranscript\\t3280\\t4437\\t.\\t+\\t.\\tID=transcript:CCP42725;Parent=gene:Rv0003;Name=recF-1;biotype=protein_coding;transcript_id=CCP42725;version=1',\n",
       " 'Chromosome\\tena\\texon\\t3280\\t4437\\t.\\t+\\t.\\tParent=transcript:CCP42725;Name=CCP42725-1;constitutive=1;ensembl_end_phase=0;ensembl_phase=0;exon_id=CCP42725-1;rank=1;version=1']"
      ]
     },
     "execution_count": 31,
     "metadata": {},
     "output_type": "execute_result"
    }
   ],
   "source": [
    "data"
   ]
  },
  {
   "cell_type": "code",
   "execution_count": 36,
   "metadata": {
    "collapsed": true
   },
   "outputs": [],
   "source": [
    "def head_to_list2(inputfile, n=10):\n",
    "    \"\"\"Read n lines from the start of the file and return\n",
    "    a list containing the lines (with end of lines removed)\"\"\"\n",
    "    lines = []\n",
    "    for count, line in enumerate(inputfile):\n",
    "        if count >= n:\n",
    "            break\n",
    "        stripped_line = line.rstrip()\n",
    "        lines.append(stripped_line)\n",
    "    return(lines)\n",
    "with open('tb_sample.gff3') as input:\n",
    "    data = head_to_list2(input, n=5)"
   ]
  },
  {
   "cell_type": "code",
   "execution_count": 37,
   "metadata": {
    "collapsed": false
   },
   "outputs": [
    {
     "data": {
      "text/plain": [
       "['##gff-version   3',\n",
       " '##sequence-region   Chromosome 1 4410929',\n",
       " '#!genome-build European Nucleotide Archive ASM19595v2',\n",
       " '#!genome-version GCA_000195955.2',\n",
       " '#!genome-date 2015-02']"
      ]
     },
     "execution_count": 37,
     "metadata": {},
     "output_type": "execute_result"
    }
   ],
   "source": [
    "data"
   ]
  },
  {
   "cell_type": "code",
   "execution_count": 40,
   "metadata": {
    "collapsed": true
   },
   "outputs": [],
   "source": [
    "def count_features(inputfile, feature_type):\n",
    "    count = 0\n",
    "    for line in inputfile:\n",
    "        if line.startswith('#'):\n",
    "            continue\n",
    "        stripped_line = line.rstrip('\\n')\n",
    "        fields = stripped_line.split('\\t')\n",
    "        feature_type_field = fields[2]\n",
    "        if feature_type_field == feature_type:\n",
    "            count += 1\n",
    "    return(count)"
   ]
  },
  {
   "cell_type": "code",
   "execution_count": 39,
   "metadata": {
    "collapsed": false
   },
   "outputs": [
    {
     "name": "stdout",
     "output_type": "stream",
     "text": [
      "gene_count: 194\n"
     ]
    }
   ],
   "source": [
    "with open('tb_sample.gff3') as input:\n",
    "    gene_count = count_features(input, 'gene')\n",
    "    print('gene_count:', gene_count)"
   ]
  },
  {
   "cell_type": "code",
   "execution_count": 42,
   "metadata": {
    "collapsed": false
   },
   "outputs": [
    {
     "name": "stdout",
     "output_type": "stream",
     "text": [
      "gene_count: 194\n",
      "cds_count: 0\n"
     ]
    }
   ],
   "source": [
    "with open('tb_sample.gff3') as input:\n",
    "    gene_count = count_features(input, 'gene')\n",
    "    cds_count = count_features(input, 'CDS')\n",
    "    print('gene_count:', gene_count)\n",
    "    print('cds_count:', cds_count)"
   ]
  },
  {
   "cell_type": "code",
   "execution_count": 43,
   "metadata": {
    "collapsed": true
   },
   "outputs": [],
   "source": [
    "def count_features_filename(inputfilename, feature_type):\n",
    "    count = 0\n",
    "    with open(inputfilename) as inputfile:\n",
    "        for line in inputfile:\n",
    "            if line.startswith('#'):\n",
    "                continue\n",
    "            stripped_line = line.rstrip('\\n')\n",
    "            fields = stripped_line.split('\\t')\n",
    "            feature_type_field = fields[2]\n",
    "            if feature_type_field == feature_type:\n",
    "                count += 1\n",
    "    return(count)"
   ]
  },
  {
   "cell_type": "code",
   "execution_count": 45,
   "metadata": {
    "collapsed": false
   },
   "outputs": [
    {
     "name": "stdout",
     "output_type": "stream",
     "text": [
      "gene_count: 194\n",
      "cds_count: 194\n"
     ]
    }
   ],
   "source": [
    "filename = 'tb_sample.gff3'\n",
    "gene_count = count_features_filename(filename, 'gene')\n",
    "cds_count = count_features_filename(filename, 'CDS')\n",
    "print('gene_count:', gene_count)\n",
    "print('cds_count:', cds_count)"
   ]
  },
  {
   "cell_type": "code",
   "execution_count": 46,
   "metadata": {
    "collapsed": true
   },
   "outputs": [],
   "source": [
    "def feature_counts(inputfile):\n",
    "    counts = dict()\n",
    "    for line in inputfile:\n",
    "        if line.startswith('#'):\n",
    "            continue\n",
    "        stripped_line = line.rstrip()\n",
    "        fields = stripped_line.split('\\t')\n",
    "        feature_type = fields[2]\n",
    "        count = counts.get(feature_type, 0)\n",
    "        counts[feature_type] = count + 1\n",
    "    return(counts)"
   ]
  },
  {
   "cell_type": "code",
   "execution_count": 47,
   "metadata": {
    "collapsed": true
   },
   "outputs": [],
   "source": [
    "with open('tb_sample.gff3') as input:\n",
    "    counts = feature_counts(input)"
   ]
  },
  {
   "cell_type": "code",
   "execution_count": 48,
   "metadata": {
    "collapsed": false
   },
   "outputs": [
    {
     "data": {
      "text/plain": [
       "{'CDS': 194,\n",
       " 'biological_region': 3,\n",
       " 'exon': 197,\n",
       " 'gene': 194,\n",
       " 'repeat_region': 8,\n",
       " 'tRNA_gene': 3,\n",
       " 'transcript': 197}"
      ]
     },
     "execution_count": 48,
     "metadata": {},
     "output_type": "execute_result"
    }
   ],
   "source": [
    "counts"
   ]
  },
  {
   "cell_type": "code",
   "execution_count": 49,
   "metadata": {
    "collapsed": true
   },
   "outputs": [],
   "source": [
    "input = open('tb_sample.gff3')\n",
    "for line in input:\n",
    "    if not line.startswith('#'):\n",
    "        break"
   ]
  },
  {
   "cell_type": "code",
   "execution_count": 50,
   "metadata": {
    "collapsed": false
   },
   "outputs": [
    {
     "data": {
      "text/plain": [
       "'Chromosome\\tena\\tgene\\t1\\t1524\\t.\\t+\\t.\\tID=gene:Rv0001;Name=dnaA;biotype=protein_coding;description=Chromosomal replication initiator protein DnaA;gene_id=Rv0001;logic_name=ena;version=1\\n'"
      ]
     },
     "execution_count": 50,
     "metadata": {},
     "output_type": "execute_result"
    }
   ],
   "source": [
    "line"
   ]
  },
  {
   "cell_type": "code",
   "execution_count": 51,
   "metadata": {
    "collapsed": false
   },
   "outputs": [
    {
     "name": "stdout",
     "output_type": "stream",
     "text": [
      "Help on built-in function print in module builtins:\n",
      "\n",
      "print(...)\n",
      "    print(value, ..., sep=' ', end='\\n', file=sys.stdout, flush=False)\n",
      "    \n",
      "    Prints the values to a stream, or to sys.stdout by default.\n",
      "    Optional keyword arguments:\n",
      "    file:  a file-like object (stream); defaults to the current sys.stdout.\n",
      "    sep:   string inserted between values, default a space.\n",
      "    end:   string appended after the last value, default a newline.\n",
      "    flush: whether to forcibly flush the stream.\n",
      "\n"
     ]
    }
   ],
   "source": [
    "help(print)"
   ]
  },
  {
   "cell_type": "code",
   "execution_count": 52,
   "metadata": {
    "collapsed": true
   },
   "outputs": [],
   "source": [
    "import sys"
   ]
  },
  {
   "cell_type": "code",
   "execution_count": 53,
   "metadata": {
    "collapsed": false
   },
   "outputs": [
    {
     "name": "stdout",
     "output_type": "stream",
     "text": [
      "Help on OutStream in module ipykernel.iostream object:\n",
      "\n",
      "class OutStream(builtins.object)\n",
      " |  A file like object that publishes the stream to a 0MQ PUB socket.\n",
      " |  \n",
      " |  Output is handed off to an IO Thread\n",
      " |  \n",
      " |  Methods defined here:\n",
      " |  \n",
      " |  __init__(self, session, pub_thread, name, pipe=None)\n",
      " |      Initialize self.  See help(type(self)) for accurate signature.\n",
      " |  \n",
      " |  __next__(self)\n",
      " |  \n",
      " |  close(self)\n",
      " |  \n",
      " |  fileno(self)\n",
      " |  \n",
      " |  flush(self)\n",
      " |      trigger actual zmq send\n",
      " |      \n",
      " |      send will happen in the background thread\n",
      " |  \n",
      " |  isatty(self)\n",
      " |  \n",
      " |  read(self, size=-1)\n",
      " |  \n",
      " |  readline(self, size=-1)\n",
      " |  \n",
      " |  set_parent(self, parent)\n",
      " |  \n",
      " |  write(self, string)\n",
      " |  \n",
      " |  writelines(self, sequence)\n",
      " |  \n",
      " |  ----------------------------------------------------------------------\n",
      " |  Data descriptors defined here:\n",
      " |  \n",
      " |  __dict__\n",
      " |      dictionary for instance variables (if defined)\n",
      " |  \n",
      " |  __weakref__\n",
      " |      list of weak references to the object (if defined)\n",
      " |  \n",
      " |  closed\n",
      " |  \n",
      " |  ----------------------------------------------------------------------\n",
      " |  Data and other attributes defined here:\n",
      " |  \n",
      " |  flush_interval = 0.2\n",
      " |  \n",
      " |  topic = None\n",
      "\n"
     ]
    }
   ],
   "source": [
    "help(sys.stderr)"
   ]
  },
  {
   "cell_type": "code",
   "execution_count": 58,
   "metadata": {
    "collapsed": true
   },
   "outputs": [],
   "source": [
    "def feature_counts(inputfile):\n",
    "    counts = dict()\n",
    "    for line in inputfile:\n",
    "        if line.startswith('#'):\n",
    "            stripped_line = line.rstrip()\n",
    "            if stripped_line != '###':\n",
    "                print('header line:', stripped_line, file=sys.stderr)\n",
    "            continue\n",
    "        stripped_line = line.rstrip()\n",
    "        fields = stripped_line.split('\\t')\n",
    "        feature_type = fields[2]\n",
    "        count = counts.get(feature_type, 0)\n",
    "        counts[feature_type] = count + 1\n",
    "    return(counts)"
   ]
  },
  {
   "cell_type": "code",
   "execution_count": 60,
   "metadata": {
    "collapsed": false,
    "scrolled": true
   },
   "outputs": [
    {
     "name": "stdout",
     "output_type": "stream",
     "text": [
      "{'biological_region': 3, 'tRNA_gene': 3, 'repeat_region': 8, 'exon': 197, 'transcript': 197, 'gene': 194, 'CDS': 194}\n"
     ]
    },
    {
     "name": "stderr",
     "output_type": "stream",
     "text": [
      "header line: ##gff-version   3\n",
      "header line: ##sequence-region   Chromosome 1 4410929\n",
      "header line: #!genome-build European Nucleotide Archive ASM19595v2\n",
      "header line: #!genome-version GCA_000195955.2\n",
      "header line: #!genome-date 2015-02\n",
      "header line: #!genome-build-accession GCA_000195955.2\n",
      "header line: #!genebuild-last-updated 2015-02\n"
     ]
    }
   ],
   "source": [
    "with open('tb_sample.gff3') as input:\n",
    "    counts = feature_counts(input)\n",
    "    print(counts)"
   ]
  },
  {
   "cell_type": "code",
   "execution_count": 61,
   "metadata": {
    "collapsed": true
   },
   "outputs": [],
   "source": [
    "import os"
   ]
  },
  {
   "cell_type": "code",
   "execution_count": 67,
   "metadata": {
    "collapsed": true
   },
   "outputs": [],
   "source": [
    "# like ls -a \n",
    "def list_files(dirname='.'):\n",
    "    for name in sorted(os.listdir(dirname)):\n",
    "        print(name)"
   ]
  },
  {
   "cell_type": "code",
   "execution_count": 66,
   "metadata": {
    "collapsed": false
   },
   "outputs": [
    {
     "name": "stdout",
     "output_type": "stream",
     "text": [
      ".git\n",
      ".gitignore\n",
      ".ipynb_checkpoints\n",
      ".mailmap\n",
      "AUTHORS\n",
      "Assessment1Discussion.ipynb\n",
      "CITATION\n",
      "CONDUCT.md\n",
      "CONTRIBUTING.md\n",
      "Day1.ipynb\n",
      "Day10Files.ipynb\n",
      "Day2.ipynb\n",
      "Day3ListsAndMore.ipynb\n",
      "Day3plotting.ipynb\n",
      "Day4Loops.ipynb\n",
      "Day5LoopingOverTasks.ipynb\n",
      "Day6Functions.ipynb\n",
      "Day7PythonSetsAndDictionaries.ipynb\n",
      "Day8StringFunctions.ipynb\n",
      "Day9Answers.ipynb\n",
      "Day9ThreeProblems.ipynb\n",
      "LICENSE.md\n",
      "Makefile\n",
      "README.md\n",
      "Untitled.ipynb\n",
      "_config.yml\n",
      "_episodes\n",
      "_episodes_rmd\n",
      "_extras\n",
      "_includes\n",
      "_layouts\n",
      "assets\n",
      "bases.txt\n",
      "bases2.txt\n",
      "bases3.txt\n",
      "bin\n",
      "code\n",
      "data\n",
      "favicon-dc.ico\n",
      "favicon-swc.ico\n",
      "fig\n",
      "files\n",
      "greetings.txt\n",
      "greetings2.txt\n",
      "greetings3.txt\n",
      "greetings4.txt\n",
      "index.md\n",
      "marks.txt\n",
      "marks2.txt\n",
      "reference.md\n",
      "sequence.fasta\n",
      "setup.md\n",
      "tb_sample.gff3\n"
     ]
    }
   ],
   "source": [
    "list_files()"
   ]
  },
  {
   "cell_type": "code",
   "execution_count": 70,
   "metadata": {
    "collapsed": false
   },
   "outputs": [],
   "source": [
    "# like ls -a \n",
    "def list_files(dirname='.', show_hidden=False):\n",
    "    for name in sorted(os.listdir(dirname)):\n",
    "        if not show_hidden and name.startswith('.'):\n",
    "            continue\n",
    "        print(name)"
   ]
  },
  {
   "cell_type": "code",
   "execution_count": 71,
   "metadata": {
    "collapsed": false
   },
   "outputs": [
    {
     "name": "stdout",
     "output_type": "stream",
     "text": [
      "AUTHORS\n",
      "Assessment1Discussion.ipynb\n",
      "CITATION\n",
      "CONDUCT.md\n",
      "CONTRIBUTING.md\n",
      "Day1.ipynb\n",
      "Day10Files.ipynb\n",
      "Day2.ipynb\n",
      "Day3ListsAndMore.ipynb\n",
      "Day3plotting.ipynb\n",
      "Day4Loops.ipynb\n",
      "Day5LoopingOverTasks.ipynb\n",
      "Day6Functions.ipynb\n",
      "Day7PythonSetsAndDictionaries.ipynb\n",
      "Day8StringFunctions.ipynb\n",
      "Day9Answers.ipynb\n",
      "Day9ThreeProblems.ipynb\n",
      "LICENSE.md\n",
      "Makefile\n",
      "README.md\n",
      "Untitled.ipynb\n",
      "_config.yml\n",
      "_episodes\n",
      "_episodes_rmd\n",
      "_extras\n",
      "_includes\n",
      "_layouts\n",
      "assets\n",
      "bases.txt\n",
      "bases2.txt\n",
      "bases3.txt\n",
      "bin\n",
      "code\n",
      "data\n",
      "favicon-dc.ico\n",
      "favicon-swc.ico\n",
      "fig\n",
      "files\n",
      "greetings.txt\n",
      "greetings2.txt\n",
      "greetings3.txt\n",
      "greetings4.txt\n",
      "index.md\n",
      "marks.txt\n",
      "marks2.txt\n",
      "reference.md\n",
      "sequence.fasta\n",
      "setup.md\n",
      "tb_sample.gff3\n"
     ]
    }
   ],
   "source": [
    "list_files()"
   ]
  },
  {
   "cell_type": "code",
   "execution_count": 72,
   "metadata": {
    "collapsed": false
   },
   "outputs": [
    {
     "name": "stdout",
     "output_type": "stream",
     "text": [
      ".git\n",
      ".gitignore\n",
      ".ipynb_checkpoints\n",
      ".mailmap\n",
      "AUTHORS\n",
      "Assessment1Discussion.ipynb\n",
      "CITATION\n",
      "CONDUCT.md\n",
      "CONTRIBUTING.md\n",
      "Day1.ipynb\n",
      "Day10Files.ipynb\n",
      "Day2.ipynb\n",
      "Day3ListsAndMore.ipynb\n",
      "Day3plotting.ipynb\n",
      "Day4Loops.ipynb\n",
      "Day5LoopingOverTasks.ipynb\n",
      "Day6Functions.ipynb\n",
      "Day7PythonSetsAndDictionaries.ipynb\n",
      "Day8StringFunctions.ipynb\n",
      "Day9Answers.ipynb\n",
      "Day9ThreeProblems.ipynb\n",
      "LICENSE.md\n",
      "Makefile\n",
      "README.md\n",
      "Untitled.ipynb\n",
      "_config.yml\n",
      "_episodes\n",
      "_episodes_rmd\n",
      "_extras\n",
      "_includes\n",
      "_layouts\n",
      "assets\n",
      "bases.txt\n",
      "bases2.txt\n",
      "bases3.txt\n",
      "bin\n",
      "code\n",
      "data\n",
      "favicon-dc.ico\n",
      "favicon-swc.ico\n",
      "fig\n",
      "files\n",
      "greetings.txt\n",
      "greetings2.txt\n",
      "greetings3.txt\n",
      "greetings4.txt\n",
      "index.md\n",
      "marks.txt\n",
      "marks2.txt\n",
      "reference.md\n",
      "sequence.fasta\n",
      "setup.md\n",
      "tb_sample.gff3\n"
     ]
    }
   ],
   "source": [
    "list_files(show_hidden=True)"
   ]
  },
  {
   "cell_type": "code",
   "execution_count": 73,
   "metadata": {
    "collapsed": false
   },
   "outputs": [
    {
     "data": {
      "text/plain": [
       "'/home/user/Documents/code/python-novice-gapminder'"
      ]
     },
     "execution_count": 73,
     "metadata": {},
     "output_type": "execute_result"
    }
   ],
   "source": [
    "# pwd equivalent\n",
    "os.getcwd()"
   ]
  },
  {
   "cell_type": "code",
   "execution_count": null,
   "metadata": {
    "collapsed": false
   },
   "outputs": [],
   "source": [
    "# two options for Windows users\n",
    "os.listdir('c:\\\\Users')\n",
    "os.listdir('/c/Users')"
   ]
  },
  {
   "cell_type": "code",
   "execution_count": 75,
   "metadata": {
    "collapsed": true
   },
   "outputs": [],
   "source": [
    "# mv equivalent\n",
    "os.rename('marks.txt', 'marks.old')"
   ]
  },
  {
   "cell_type": "code",
   "execution_count": 76,
   "metadata": {
    "collapsed": false
   },
   "outputs": [
    {
     "name": "stdout",
     "output_type": "stream",
     "text": [
      "AUTHORS\n",
      "Assessment1Discussion.ipynb\n",
      "CITATION\n",
      "CONDUCT.md\n",
      "CONTRIBUTING.md\n",
      "Day1.ipynb\n",
      "Day10Files.ipynb\n",
      "Day2.ipynb\n",
      "Day3ListsAndMore.ipynb\n",
      "Day3plotting.ipynb\n",
      "Day4Loops.ipynb\n",
      "Day5LoopingOverTasks.ipynb\n",
      "Day6Functions.ipynb\n",
      "Day7PythonSetsAndDictionaries.ipynb\n",
      "Day8StringFunctions.ipynb\n",
      "Day9Answers.ipynb\n",
      "Day9ThreeProblems.ipynb\n",
      "LICENSE.md\n",
      "Makefile\n",
      "README.md\n",
      "Untitled.ipynb\n",
      "_config.yml\n",
      "_episodes\n",
      "_episodes_rmd\n",
      "_extras\n",
      "_includes\n",
      "_layouts\n",
      "assets\n",
      "bases.txt\n",
      "bases2.txt\n",
      "bases3.txt\n",
      "bin\n",
      "code\n",
      "data\n",
      "favicon-dc.ico\n",
      "favicon-swc.ico\n",
      "fig\n",
      "files\n",
      "greetings.txt\n",
      "greetings2.txt\n",
      "greetings3.txt\n",
      "greetings4.txt\n",
      "index.md\n",
      "marks.old\n",
      "marks2.txt\n",
      "reference.md\n",
      "sequence.fasta\n",
      "setup.md\n",
      "tb_sample.gff3\n"
     ]
    }
   ],
   "source": [
    "list_files()"
   ]
  },
  {
   "cell_type": "code",
   "execution_count": 77,
   "metadata": {
    "collapsed": false
   },
   "outputs": [
    {
     "data": {
      "text/plain": [
       "'marks2.old'"
      ]
     },
     "execution_count": 77,
     "metadata": {},
     "output_type": "execute_result"
    }
   ],
   "source": [
    "# cp equivalent\n",
    "import shutil\n",
    "shutil.copy('marks.old', 'marks2.old')"
   ]
  },
  {
   "cell_type": "code",
   "execution_count": 78,
   "metadata": {
    "collapsed": true
   },
   "outputs": [],
   "source": [
    "import click"
   ]
  },
  {
   "cell_type": "code",
   "execution_count": null,
   "metadata": {
    "collapsed": true
   },
   "outputs": [],
   "source": []
  }
 ],
 "metadata": {
  "anaconda-cloud": {},
  "kernelspec": {
   "display_name": "Python [Root]",
   "language": "python",
   "name": "Python [Root]"
  },
  "language_info": {
   "codemirror_mode": {
    "name": "ipython",
    "version": 3
   },
   "file_extension": ".py",
   "mimetype": "text/x-python",
   "name": "python",
   "nbconvert_exporter": "python",
   "pygments_lexer": "ipython3",
   "version": "3.5.2"
  }
 },
 "nbformat": 4,
 "nbformat_minor": 0
}

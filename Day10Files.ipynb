{
 "cells": [
  {
   "cell_type": "code",
   "execution_count": 1,
   "metadata": {
    "collapsed": false
   },
   "outputs": [
    {
     "name": "stdout",
     "output_type": "stream",
     "text": [
      "Assessment1Discussion.ipynb          Day8StringFunctions.ipynb\r\n",
      "\u001b[0m\u001b[01;34massets\u001b[0m/                              Day9Answers.ipynb\r\n",
      "AUTHORS                              Day9ThreeProblems.ipynb\r\n",
      "\u001b[01;34mbin\u001b[0m/                                 \u001b[01;34m_episodes\u001b[0m/\r\n",
      "CITATION                             \u001b[01;34m_episodes_rmd\u001b[0m/\r\n",
      "\u001b[01;34mcode\u001b[0m/                                \u001b[01;34m_extras\u001b[0m/\r\n",
      "CONDUCT.md                           favicon-dc.ico\r\n",
      "_config.yml                          favicon-swc.ico\r\n",
      "CONTRIBUTING.md                      \u001b[01;34mfig\u001b[0m/\r\n",
      "\u001b[01;34mdata\u001b[0m/                                \u001b[01;34mfiles\u001b[0m/\r\n",
      "Day10Files.ipynb                     \u001b[01;34m_includes\u001b[0m/\r\n",
      "Day1.ipynb                           index.md\r\n",
      "Day2.ipynb                           \u001b[01;34m_layouts\u001b[0m/\r\n",
      "Day3ListsAndMore.ipynb               LICENSE.md\r\n",
      "Day3plotting.ipynb                   Makefile\r\n",
      "Day4Loops.ipynb                      README.md\r\n",
      "Day5LoopingOverTasks.ipynb           reference.md\r\n",
      "Day6Functions.ipynb                  sequence.fasta\r\n",
      "Day7PythonSetsAndDictionaries.ipynb  setup.md\r\n"
     ]
    }
   ],
   "source": [
    "ls"
   ]
  },
  {
   "cell_type": "code",
   "execution_count": 2,
   "metadata": {
    "collapsed": true
   },
   "outputs": [],
   "source": [
    "input = open('sequence.fasta')"
   ]
  },
  {
   "cell_type": "code",
   "execution_count": 3,
   "metadata": {
    "collapsed": false
   },
   "outputs": [
    {
     "data": {
      "text/plain": [
       "<_io.TextIOWrapper name='sequence.fasta' mode='r' encoding='UTF-8'>"
      ]
     },
     "execution_count": 3,
     "metadata": {},
     "output_type": "execute_result"
    }
   ],
   "source": [
    "input"
   ]
  },
  {
   "cell_type": "code",
   "execution_count": 5,
   "metadata": {
    "collapsed": false
   },
   "outputs": [
    {
     "data": {
      "text/plain": [
       "'>ENA|AMY56586|AMY56586.1 Python regius partial sodium/potassium-ATPase alpha-subunit isoform 3 \\nCCACCACCAACCACTCCTGAATGGGTAAAGTTTTGCCGCCAGCTCTTCGGAGGTTTCTCT\\nATCCTCTTGTGGATTGGGGCCATACTYTGCTTCTTAGCCTACGGCATCCAGGCAGGGACC\\nGAGGATGACCCATCAGGAGACAATCTGTACCTCGGTATTGTCTTGGCAGCTGTTGTCATC\\nATCACCGGCTGCTTCTCCTACTACCAA\\n'"
      ]
     },
     "execution_count": 5,
     "metadata": {},
     "output_type": "execute_result"
    }
   ],
   "source": [
    "input.read()"
   ]
  },
  {
   "cell_type": "code",
   "execution_count": 6,
   "metadata": {
    "collapsed": false
   },
   "outputs": [
    {
     "data": {
      "text/plain": [
       "''"
      ]
     },
     "execution_count": 6,
     "metadata": {},
     "output_type": "execute_result"
    }
   ],
   "source": [
    "input.read()"
   ]
  },
  {
   "cell_type": "code",
   "execution_count": 7,
   "metadata": {
    "collapsed": false
   },
   "outputs": [
    {
     "data": {
      "text/plain": [
       "'sequence.fasta'"
      ]
     },
     "execution_count": 7,
     "metadata": {},
     "output_type": "execute_result"
    }
   ],
   "source": [
    "input.name"
   ]
  },
  {
   "cell_type": "code",
   "execution_count": 8,
   "metadata": {
    "collapsed": false
   },
   "outputs": [
    {
     "data": {
      "text/plain": [
       "307"
      ]
     },
     "execution_count": 8,
     "metadata": {},
     "output_type": "execute_result"
    }
   ],
   "source": [
    "input.tell()"
   ]
  },
  {
   "cell_type": "code",
   "execution_count": 9,
   "metadata": {
    "collapsed": false
   },
   "outputs": [
    {
     "data": {
      "text/plain": [
       "'r'"
      ]
     },
     "execution_count": 9,
     "metadata": {},
     "output_type": "execute_result"
    }
   ],
   "source": [
    "input.mode"
   ]
  },
  {
   "cell_type": "code",
   "execution_count": 10,
   "metadata": {
    "collapsed": true
   },
   "outputs": [],
   "source": [
    "input = open('sequence.fasta')"
   ]
  },
  {
   "cell_type": "code",
   "execution_count": 11,
   "metadata": {
    "collapsed": true
   },
   "outputs": [],
   "source": [
    "sequence = input.read()"
   ]
  },
  {
   "cell_type": "code",
   "execution_count": 12,
   "metadata": {
    "collapsed": false
   },
   "outputs": [
    {
     "name": "stdout",
     "output_type": "stream",
     "text": [
      "307\n"
     ]
    }
   ],
   "source": [
    "print(len(sequence))"
   ]
  },
  {
   "cell_type": "code",
   "execution_count": 16,
   "metadata": {
    "collapsed": false
   },
   "outputs": [
    {
     "data": {
      "text/plain": [
       "'>'"
      ]
     },
     "execution_count": 16,
     "metadata": {},
     "output_type": "execute_result"
    }
   ],
   "source": [
    "sequence[0]"
   ]
  },
  {
   "cell_type": "code",
   "execution_count": 17,
   "metadata": {
    "collapsed": false
   },
   "outputs": [
    {
     "name": "stdout",
     "output_type": "stream",
     "text": [
      ">ENA|AMY56586|AMY56586.1 Python regius partial sodium/potassium-ATPase alpha-subunit isoform 3 \n",
      "CCACCACCAACCACTCCTGAATGGGTAAAGTTTTGCCGCCAGCTCTTCGGAGGTTTCTCT\n",
      "ATCCTCTTGTGGATTGGGGCCATACTYTGCTTCTTAGCCTACGGCATCCAGGCAGGGACC\n",
      "GAGGATGACCCATCAGGAGACAATCTGTACCTCGGTATTGTCTTGGCAGCTGTTGTCATC\n",
      "ATCACCGGCTGCTTCTCCTACTACCAA\n",
      "\n"
     ]
    }
   ],
   "source": [
    "print(sequence)"
   ]
  },
  {
   "cell_type": "code",
   "execution_count": 18,
   "metadata": {
    "collapsed": false
   },
   "outputs": [
    {
     "data": {
      "text/plain": [
       "'>ENA|AMY56586|AMY56586.1 Python regius partial sodium/potassium-ATPase alpha-subunit isoform 3 \\nCCACCACCAACCACTCCTGAATGGGTAAAGTTTTGCCGCCAGCTCTTCGGAGGTTTCTCT\\nATCCTCTTGTGGATTGGGGCCATACTYTGCTTCTTAGCCTACGGCATCCAGGCAGGGACC\\nGAGGATGACCCATCAGGAGACAATCTGTACCTCGGTATTGTCTTGGCAGCTGTTGTCATC\\nATCACCGGCTGCTTCTCCTACTACCAA\\n'"
      ]
     },
     "execution_count": 18,
     "metadata": {},
     "output_type": "execute_result"
    }
   ],
   "source": [
    "sequence"
   ]
  },
  {
   "cell_type": "code",
   "execution_count": 19,
   "metadata": {
    "collapsed": true
   },
   "outputs": [],
   "source": [
    "lines = sequence.split('\\n')"
   ]
  },
  {
   "cell_type": "code",
   "execution_count": 20,
   "metadata": {
    "collapsed": false
   },
   "outputs": [
    {
     "data": {
      "text/plain": [
       "['>ENA|AMY56586|AMY56586.1 Python regius partial sodium/potassium-ATPase alpha-subunit isoform 3 ',\n",
       " 'CCACCACCAACCACTCCTGAATGGGTAAAGTTTTGCCGCCAGCTCTTCGGAGGTTTCTCT',\n",
       " 'ATCCTCTTGTGGATTGGGGCCATACTYTGCTTCTTAGCCTACGGCATCCAGGCAGGGACC',\n",
       " 'GAGGATGACCCATCAGGAGACAATCTGTACCTCGGTATTGTCTTGGCAGCTGTTGTCATC',\n",
       " 'ATCACCGGCTGCTTCTCCTACTACCAA',\n",
       " '']"
      ]
     },
     "execution_count": 20,
     "metadata": {},
     "output_type": "execute_result"
    }
   ],
   "source": [
    "lines"
   ]
  },
  {
   "cell_type": "code",
   "execution_count": 21,
   "metadata": {
    "collapsed": true
   },
   "outputs": [],
   "source": [
    "base_lines = lines[1:]"
   ]
  },
  {
   "cell_type": "code",
   "execution_count": 22,
   "metadata": {
    "collapsed": false
   },
   "outputs": [
    {
     "data": {
      "text/plain": [
       "['CCACCACCAACCACTCCTGAATGGGTAAAGTTTTGCCGCCAGCTCTTCGGAGGTTTCTCT',\n",
       " 'ATCCTCTTGTGGATTGGGGCCATACTYTGCTTCTTAGCCTACGGCATCCAGGCAGGGACC',\n",
       " 'GAGGATGACCCATCAGGAGACAATCTGTACCTCGGTATTGTCTTGGCAGCTGTTGTCATC',\n",
       " 'ATCACCGGCTGCTTCTCCTACTACCAA',\n",
       " '']"
      ]
     },
     "execution_count": 22,
     "metadata": {},
     "output_type": "execute_result"
    }
   ],
   "source": [
    "base_lines"
   ]
  },
  {
   "cell_type": "code",
   "execution_count": 23,
   "metadata": {
    "collapsed": false
   },
   "outputs": [
    {
     "data": {
      "text/plain": [
       "'CCACCACCAACCACTCCTGAATGGGTAAAGTTTTGCCGCCAGCTCTTCGGAGGTTTCTCTATCCTCTTGTGGATTGGGGCCATACTYTGCTTCTTAGCCTACGGCATCCAGGCAGGGACCGAGGATGACCCATCAGGAGACAATCTGTACCTCGGTATTGTCTTGGCAGCTGTTGTCATCATCACCGGCTGCTTCTCCTACTACCAA'"
      ]
     },
     "execution_count": 23,
     "metadata": {},
     "output_type": "execute_result"
    }
   ],
   "source": [
    "''.join(base_lines)"
   ]
  },
  {
   "cell_type": "code",
   "execution_count": 25,
   "metadata": {
    "collapsed": true
   },
   "outputs": [],
   "source": [
    "bases = ''.join(base_lines)"
   ]
  },
  {
   "cell_type": "code",
   "execution_count": 24,
   "metadata": {
    "collapsed": true
   },
   "outputs": [],
   "source": [
    "def gc_content(python_sequence):\n",
    "    a_count = 0\n",
    "    t_count = 0\n",
    "    g_count = 0\n",
    "    c_count = 0\n",
    "    for base in python_sequence:\n",
    "        if base == 'A':\n",
    "            a_count = a_count + 1\n",
    "        elif base == 'T':\n",
    "            t_count = t_count + 1\n",
    "        elif base == 'G':\n",
    "            g_count = g_count + 1\n",
    "        elif base == 'C':\n",
    "            c_count = c_count + 1\n",
    "    total_base_count = a_count + c_count + t_count + g_count\n",
    "    gc_content = round((c_count + g_count)/total_base_count*100)\n",
    "    return gc_content"
   ]
  },
  {
   "cell_type": "code",
   "execution_count": 26,
   "metadata": {
    "collapsed": false
   },
   "outputs": [
    {
     "data": {
      "text/plain": [
       "53"
      ]
     },
     "execution_count": 26,
     "metadata": {},
     "output_type": "execute_result"
    }
   ],
   "source": [
    "gc_content(bases)"
   ]
  },
  {
   "cell_type": "code",
   "execution_count": 27,
   "metadata": {
    "collapsed": true
   },
   "outputs": [],
   "source": [
    "header_line = lines[0]"
   ]
  },
  {
   "cell_type": "code",
   "execution_count": 28,
   "metadata": {
    "collapsed": false
   },
   "outputs": [
    {
     "data": {
      "text/plain": [
       "'>ENA|AMY56586|AMY56586.1 Python regius partial sodium/potassium-ATPase alpha-subunit isoform 3 '"
      ]
     },
     "execution_count": 28,
     "metadata": {},
     "output_type": "execute_result"
    }
   ],
   "source": [
    "header_line"
   ]
  },
  {
   "cell_type": "code",
   "execution_count": 29,
   "metadata": {
    "collapsed": false
   },
   "outputs": [
    {
     "data": {
      "text/plain": [
       "['>ENA',\n",
       " 'AMY56586',\n",
       " 'AMY56586.1 Python regius partial sodium/potassium-ATPase alpha-subunit isoform 3 ']"
      ]
     },
     "execution_count": 29,
     "metadata": {},
     "output_type": "execute_result"
    }
   ],
   "source": [
    "header_line.split('|')"
   ]
  },
  {
   "cell_type": "code",
   "execution_count": 30,
   "metadata": {
    "collapsed": true
   },
   "outputs": [],
   "source": [
    "accession = header_line.split('|')[1]"
   ]
  },
  {
   "cell_type": "code",
   "execution_count": 31,
   "metadata": {
    "collapsed": false
   },
   "outputs": [
    {
     "data": {
      "text/plain": [
       "'AMY56586'"
      ]
     },
     "execution_count": 31,
     "metadata": {},
     "output_type": "execute_result"
    }
   ],
   "source": [
    "accession"
   ]
  },
  {
   "cell_type": "code",
   "execution_count": 35,
   "metadata": {
    "collapsed": false
   },
   "outputs": [
    {
     "data": {
      "text/plain": [
       "'Python regius partial sodium/potassium-ATPase alpha-subunit isoform 3 '"
      ]
     },
     "execution_count": 35,
     "metadata": {},
     "output_type": "execute_result"
    }
   ],
   "source": [
    "header_line[25:]"
   ]
  },
  {
   "cell_type": "code",
   "execution_count": 36,
   "metadata": {
    "collapsed": false
   },
   "outputs": [
    {
     "name": "stdout",
     "output_type": "stream",
     "text": [
      "Help on built-in function split:\n",
      "\n",
      "split(...) method of builtins.str instance\n",
      "    S.split(sep=None, maxsplit=-1) -> list of strings\n",
      "    \n",
      "    Return a list of the words in S, using sep as the\n",
      "    delimiter string.  If maxsplit is given, at most maxsplit\n",
      "    splits are done. If sep is not specified or is None, any\n",
      "    whitespace string is a separator and empty strings are\n",
      "    removed from the result.\n",
      "\n"
     ]
    }
   ],
   "source": [
    "help(header_line.split)"
   ]
  },
  {
   "cell_type": "code",
   "execution_count": 37,
   "metadata": {
    "collapsed": false
   },
   "outputs": [
    {
     "data": {
      "text/plain": [
       "['>ENA|AMY56586|AMY56586.1',\n",
       " 'Python regius partial sodium/potassium-ATPase alpha-subunit isoform 3 ']"
      ]
     },
     "execution_count": 37,
     "metadata": {},
     "output_type": "execute_result"
    }
   ],
   "source": [
    "header_line.split(sep=' ', maxsplit=1)"
   ]
  },
  {
   "cell_type": "code",
   "execution_count": 38,
   "metadata": {
    "collapsed": true
   },
   "outputs": [],
   "source": [
    "description = header_line.split(sep=' ', maxsplit=1)[1]"
   ]
  },
  {
   "cell_type": "code",
   "execution_count": 39,
   "metadata": {
    "collapsed": false
   },
   "outputs": [
    {
     "data": {
      "text/plain": [
       "'Python regius partial sodium/potassium-ATPase alpha-subunit isoform 3 '"
      ]
     },
     "execution_count": 39,
     "metadata": {},
     "output_type": "execute_result"
    }
   ],
   "source": [
    "description"
   ]
  },
  {
   "cell_type": "code",
   "execution_count": 40,
   "metadata": {
    "collapsed": true
   },
   "outputs": [],
   "source": [
    "input = open('sequence.fasta')"
   ]
  },
  {
   "cell_type": "code",
   "execution_count": 41,
   "metadata": {
    "collapsed": false
   },
   "outputs": [
    {
     "data": {
      "text/plain": [
       "0"
      ]
     },
     "execution_count": 41,
     "metadata": {},
     "output_type": "execute_result"
    }
   ],
   "source": [
    "input.tell()"
   ]
  },
  {
   "cell_type": "code",
   "execution_count": 42,
   "metadata": {
    "collapsed": false
   },
   "outputs": [
    {
     "data": {
      "text/plain": [
       "'>ENA|AMY56586|AMY56586.1 Python regius partial sodium/potassium-ATPase alpha-subunit isoform 3 \\nCCACCACCAACCACTCCTGAATGGGTAAAGTTTTGCCGCCAGCTCTTCGGAGGTTTCTCT\\nATCCTCTTGTGGATTGGGGCCATACTYTGCTTCTTAGCCTACGGCATCCAGGCAGGGACC\\nGAGGATGACCCATCAGGAGACAATCTGTACCTCGGTATTGTCTTGGCAGCTGTTGTCATC\\nATCACCGGCTGCTTCTCCTACTACCAA\\n'"
      ]
     },
     "execution_count": 42,
     "metadata": {},
     "output_type": "execute_result"
    }
   ],
   "source": [
    "input.read()"
   ]
  },
  {
   "cell_type": "code",
   "execution_count": 43,
   "metadata": {
    "collapsed": true
   },
   "outputs": [],
   "source": [
    "input = open('sequence.fasta')"
   ]
  },
  {
   "cell_type": "code",
   "execution_count": 44,
   "metadata": {
    "collapsed": false
   },
   "outputs": [
    {
     "data": {
      "text/plain": [
       "0"
      ]
     },
     "execution_count": 44,
     "metadata": {},
     "output_type": "execute_result"
    }
   ],
   "source": [
    "input.tell()"
   ]
  },
  {
   "cell_type": "code",
   "execution_count": 45,
   "metadata": {
    "collapsed": false
   },
   "outputs": [
    {
     "data": {
      "text/plain": [
       "'>ENA|AMY56586|AMY56586.1 Python regius partial sodium/potassium-ATPase alpha-subunit isoform 3 \\nCCACCACCAACCACTCCTGAATGGGTAAAGTTTTGCCGCCAGCTCTTCGGAGGTTTCTCT\\nATCCTCTTGTGGATTGGGGCCATACTYTGCTTCTTAGCCTACGGCATCCAGGCAGGGACC\\nGAGGATGACCCATCAGGAGACAATCTGTACCTCGGTATTGTCTTGGCAGCTGTTGTCATC\\nATCACCGGCTGCTTCTCCTACTACCAA\\n'"
      ]
     },
     "execution_count": 45,
     "metadata": {},
     "output_type": "execute_result"
    }
   ],
   "source": [
    "input.read()"
   ]
  },
  {
   "cell_type": "code",
   "execution_count": 46,
   "metadata": {
    "collapsed": false
   },
   "outputs": [
    {
     "data": {
      "text/plain": [
       "307"
      ]
     },
     "execution_count": 46,
     "metadata": {},
     "output_type": "execute_result"
    }
   ],
   "source": [
    "input.tell()"
   ]
  },
  {
   "cell_type": "code",
   "execution_count": 47,
   "metadata": {
    "collapsed": false
   },
   "outputs": [
    {
     "data": {
      "text/plain": [
       "'CCACCACCAACCACTCCTGAATGGGTAAAGTTTTGCCGCCAGCTCTTCGGAGGTTTCTCTATCCTCTTGTGGATTGGGGCCATACTYTGCTTCTTAGCCTACGGCATCCAGGCAGGGACCGAGGATGACCCATCAGGAGACAATCTGTACCTCGGTATTGTCTTGGCAGCTGTTGTCATCATCACCGGCTGCTTCTCCTACTACCAA'"
      ]
     },
     "execution_count": 47,
     "metadata": {},
     "output_type": "execute_result"
    }
   ],
   "source": [
    "bases"
   ]
  },
  {
   "cell_type": "code",
   "execution_count": 48,
   "metadata": {
    "collapsed": true
   },
   "outputs": [],
   "source": [
    "output = open('bases.txt', 'w')"
   ]
  },
  {
   "cell_type": "code",
   "execution_count": 49,
   "metadata": {
    "collapsed": false
   },
   "outputs": [
    {
     "data": {
      "text/plain": [
       "207"
      ]
     },
     "execution_count": 49,
     "metadata": {},
     "output_type": "execute_result"
    }
   ],
   "source": [
    "output.write(bases)"
   ]
  },
  {
   "cell_type": "code",
   "execution_count": 50,
   "metadata": {
    "collapsed": false,
    "scrolled": true
   },
   "outputs": [
    {
     "name": "stdout",
     "output_type": "stream",
     "text": [
      "Assessment1Discussion.ipynb          Day8StringFunctions.ipynb\r\n",
      "\u001b[0m\u001b[01;34massets\u001b[0m/                              Day9Answers.ipynb\r\n",
      "AUTHORS                              Day9ThreeProblems.ipynb\r\n",
      "bases.txt                            \u001b[01;34m_episodes\u001b[0m/\r\n",
      "\u001b[01;34mbin\u001b[0m/                                 \u001b[01;34m_episodes_rmd\u001b[0m/\r\n",
      "CITATION                             \u001b[01;34m_extras\u001b[0m/\r\n",
      "\u001b[01;34mcode\u001b[0m/                                favicon-dc.ico\r\n",
      "CONDUCT.md                           favicon-swc.ico\r\n",
      "_config.yml                          \u001b[01;34mfig\u001b[0m/\r\n",
      "CONTRIBUTING.md                      \u001b[01;34mfiles\u001b[0m/\r\n",
      "\u001b[01;34mdata\u001b[0m/                                \u001b[01;34m_includes\u001b[0m/\r\n",
      "Day10Files.ipynb                     index.md\r\n",
      "Day1.ipynb                           \u001b[01;34m_layouts\u001b[0m/\r\n",
      "Day2.ipynb                           LICENSE.md\r\n",
      "Day3ListsAndMore.ipynb               Makefile\r\n",
      "Day3plotting.ipynb                   README.md\r\n",
      "Day4Loops.ipynb                      reference.md\r\n",
      "Day5LoopingOverTasks.ipynb           sequence.fasta\r\n",
      "Day6Functions.ipynb                  setup.md\r\n",
      "Day7PythonSetsAndDictionaries.ipynb\r\n"
     ]
    }
   ],
   "source": [
    "ls"
   ]
  },
  {
   "cell_type": "code",
   "execution_count": 51,
   "metadata": {
    "collapsed": false
   },
   "outputs": [
    {
     "name": "stdout",
     "output_type": "stream",
     "text": [
      "-rw-rw-r-- 1 user user 0 Mar 17 10:46 bases.txt\r\n"
     ]
    }
   ],
   "source": [
    "ls -l bases.txt"
   ]
  },
  {
   "cell_type": "code",
   "execution_count": 52,
   "metadata": {
    "collapsed": true
   },
   "outputs": [],
   "source": [
    "output.close()"
   ]
  },
  {
   "cell_type": "code",
   "execution_count": 53,
   "metadata": {
    "collapsed": false
   },
   "outputs": [
    {
     "name": "stdout",
     "output_type": "stream",
     "text": [
      "-rw-rw-r-- 1 user user 207 Mar 17 10:50 bases.txt\r\n"
     ]
    }
   ],
   "source": [
    "ls -l bases.txt"
   ]
  },
  {
   "cell_type": "code",
   "execution_count": 54,
   "metadata": {
    "collapsed": true
   },
   "outputs": [],
   "source": [
    "output = open('bases2.txt', 'w')"
   ]
  },
  {
   "cell_type": "code",
   "execution_count": 55,
   "metadata": {
    "collapsed": false
   },
   "outputs": [
    {
     "data": {
      "text/plain": [
       "207"
      ]
     },
     "execution_count": 55,
     "metadata": {},
     "output_type": "execute_result"
    }
   ],
   "source": [
    "output.write(bases)"
   ]
  },
  {
   "cell_type": "code",
   "execution_count": 56,
   "metadata": {
    "collapsed": true
   },
   "outputs": [],
   "source": [
    "output = open('bases3.txt', 'w')"
   ]
  },
  {
   "cell_type": "code",
   "execution_count": 57,
   "metadata": {
    "collapsed": false
   },
   "outputs": [
    {
     "name": "stdout",
     "output_type": "stream",
     "text": [
      "-rw-rw-r-- 1 user user 207 Mar 17 10:54 bases2.txt\r\n"
     ]
    }
   ],
   "source": [
    "ls -l bases2.txt"
   ]
  },
  {
   "cell_type": "code",
   "execution_count": 58,
   "metadata": {
    "collapsed": true
   },
   "outputs": [],
   "source": [
    "output = open('greetings.txt', 'w')"
   ]
  },
  {
   "cell_type": "code",
   "execution_count": 59,
   "metadata": {
    "collapsed": false
   },
   "outputs": [
    {
     "data": {
      "text/plain": [
       "6"
      ]
     },
     "execution_count": 59,
     "metadata": {},
     "output_type": "execute_result"
    }
   ],
   "source": [
    "output.write('Hello\\n')"
   ]
  },
  {
   "cell_type": "code",
   "execution_count": 60,
   "metadata": {
    "collapsed": false
   },
   "outputs": [
    {
     "data": {
      "text/plain": [
       "29"
      ]
     },
     "execution_count": 60,
     "metadata": {},
     "output_type": "execute_result"
    }
   ],
   "source": [
    "output.write('I hope everyone likes Python\\n')"
   ]
  },
  {
   "cell_type": "code",
   "execution_count": 61,
   "metadata": {
    "collapsed": true
   },
   "outputs": [],
   "source": [
    "output.close()"
   ]
  },
  {
   "cell_type": "code",
   "execution_count": 62,
   "metadata": {
    "collapsed": true
   },
   "outputs": [],
   "source": [
    "output = open('greetings2.txt', 'w')\n",
    "output.write('Hello ')\n",
    "output.write('I know everyone likes Python\\n')\n",
    "output.close()"
   ]
  },
  {
   "cell_type": "code",
   "execution_count": 63,
   "metadata": {
    "collapsed": true
   },
   "outputs": [],
   "source": [
    "output = open('greetings3.txt', 'w')\n",
    "output.write('Hello\\nPeople are probably tired of me talking about Python\\n')\n",
    "output.close()"
   ]
  },
  {
   "cell_type": "code",
   "execution_count": 64,
   "metadata": {
    "collapsed": true
   },
   "outputs": [],
   "source": [
    "output = open('greetings4.txt', 'w')"
   ]
  },
  {
   "cell_type": "code",
   "execution_count": 65,
   "metadata": {
    "collapsed": false
   },
   "outputs": [
    {
     "name": "stdout",
     "output_type": "stream",
     "text": [
      "Help on built-in function print in module builtins:\n",
      "\n",
      "print(...)\n",
      "    print(value, ..., sep=' ', end='\\n', file=sys.stdout, flush=False)\n",
      "    \n",
      "    Prints the values to a stream, or to sys.stdout by default.\n",
      "    Optional keyword arguments:\n",
      "    file:  a file-like object (stream); defaults to the current sys.stdout.\n",
      "    sep:   string inserted between values, default a space.\n",
      "    end:   string appended after the last value, default a newline.\n",
      "    flush: whether to forcibly flush the stream.\n",
      "\n"
     ]
    }
   ],
   "source": [
    "help(print)"
   ]
  },
  {
   "cell_type": "code",
   "execution_count": 66,
   "metadata": {
    "collapsed": true
   },
   "outputs": [],
   "source": [
    "print('You can use print to print to a file', file=output)"
   ]
  },
  {
   "cell_type": "code",
   "execution_count": 67,
   "metadata": {
    "collapsed": true
   },
   "outputs": [],
   "source": [
    "print('And the print() function will do end of lines for you', file=output)"
   ]
  },
  {
   "cell_type": "code",
   "execution_count": 68,
   "metadata": {
    "collapsed": true
   },
   "outputs": [],
   "source": [
    "output.close()"
   ]
  },
  {
   "cell_type": "code",
   "execution_count": 69,
   "metadata": {
    "collapsed": true
   },
   "outputs": [],
   "source": [
    "marks = [43, 32, 38, 64, 62, 41, 20, 40, 52, 45, 57, 50, 60, 70, 68, 50, 38, 44, 55, 57, 45, 50, 44, 44, 66]"
   ]
  },
  {
   "cell_type": "code",
   "execution_count": 71,
   "metadata": {
    "collapsed": false
   },
   "outputs": [],
   "source": [
    "output = open('marks.txt', 'w')"
   ]
  },
  {
   "cell_type": "code",
   "execution_count": 72,
   "metadata": {
    "collapsed": false
   },
   "outputs": [
    {
     "ename": "TypeError",
     "evalue": "write() argument must be str, not list",
     "output_type": "error",
     "traceback": [
      "\u001b[1;31m---------------------------------------------------------------------------\u001b[0m",
      "\u001b[1;31mTypeError\u001b[0m                                 Traceback (most recent call last)",
      "\u001b[1;32m<ipython-input-72-b9f5669a1730>\u001b[0m in \u001b[0;36m<module>\u001b[1;34m()\u001b[0m\n\u001b[1;32m----> 1\u001b[1;33m \u001b[0moutput\u001b[0m\u001b[1;33m.\u001b[0m\u001b[0mwrite\u001b[0m\u001b[1;33m(\u001b[0m\u001b[0mmarks\u001b[0m\u001b[1;33m)\u001b[0m\u001b[1;33m\u001b[0m\u001b[0m\n\u001b[0m",
      "\u001b[1;31mTypeError\u001b[0m: write() argument must be str, not list"
     ]
    }
   ],
   "source": [
    "output.write(marks)"
   ]
  },
  {
   "cell_type": "code",
   "execution_count": 75,
   "metadata": {
    "collapsed": false
   },
   "outputs": [],
   "source": [
    "output = open('marks.txt', 'w')\n",
    "for mark in marks:\n",
    "    mark_as_str = str(mark)\n",
    "    output.write(mark_as_str + '\\n')\n",
    "output.close()"
   ]
  },
  {
   "cell_type": "code",
   "execution_count": 76,
   "metadata": {
    "collapsed": true
   },
   "outputs": [],
   "source": [
    "output = open('marks2.txt', 'w')\n",
    "for mark in marks:\n",
    "    print(mark, file=output)\n",
    "output.close()"
   ]
  },
  {
   "cell_type": "code",
   "execution_count": 78,
   "metadata": {
    "collapsed": false
   },
   "outputs": [],
   "source": [
    "# google some on python and with\n",
    "with open('marks2.txt', 'w') as output:\n",
    "    for mark in marks:\n",
    "        print(mark, file=output)\n"
   ]
  },
  {
   "cell_type": "code",
   "execution_count": 79,
   "metadata": {
    "collapsed": false
   },
   "outputs": [
    {
     "ename": "FileNotFoundError",
     "evalue": "[Errno 2] No such file or directory: 'notthere.txt'",
     "output_type": "error",
     "traceback": [
      "\u001b[1;31m---------------------------------------------------------------------------\u001b[0m",
      "\u001b[1;31mFileNotFoundError\u001b[0m                         Traceback (most recent call last)",
      "\u001b[1;32m<ipython-input-79-ce85f9ba4f2b>\u001b[0m in \u001b[0;36m<module>\u001b[1;34m()\u001b[0m\n\u001b[1;32m----> 1\u001b[1;33m \u001b[0minput\u001b[0m \u001b[1;33m=\u001b[0m \u001b[0mopen\u001b[0m\u001b[1;33m(\u001b[0m\u001b[1;34m'notthere.txt'\u001b[0m\u001b[1;33m)\u001b[0m\u001b[1;33m\u001b[0m\u001b[0m\n\u001b[0m",
      "\u001b[1;31mFileNotFoundError\u001b[0m: [Errno 2] No such file or directory: 'notthere.txt'"
     ]
    }
   ],
   "source": [
    "input = open('notthere.txt')"
   ]
  },
  {
   "cell_type": "code",
   "execution_count": null,
   "metadata": {
    "collapsed": true
   },
   "outputs": [],
   "source": []
  }
 ],
 "metadata": {
  "kernelspec": {
   "display_name": "Python [Root]",
   "language": "python",
   "name": "Python [Root]"
  },
  "language_info": {
   "codemirror_mode": {
    "name": "ipython",
    "version": 3
   },
   "file_extension": ".py",
   "mimetype": "text/x-python",
   "name": "python",
   "nbconvert_exporter": "python",
   "pygments_lexer": "ipython3",
   "version": "3.5.2"
  }
 },
 "nbformat": 4,
 "nbformat_minor": 0
}

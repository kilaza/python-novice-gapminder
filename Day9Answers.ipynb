{
 "cells": [
  {
   "cell_type": "code",
   "execution_count": 4,
   "metadata": {
    "collapsed": true
   },
   "outputs": [],
   "source": [
    "def gc_content(sequence):\n",
    "    base_counts = dict()\n",
    "    valid_bases = set('ACTG')\n",
    "    for base in python_sequence:\n",
    "        base = base.upper()\n",
    "        if base in valid_bases:\n",
    "            base_counts[base] = base_counts.get(base, 0) + 1\n",
    "    gc_count = base_counts.get('G', 0) + base_counts.get('C', 0)\n",
    "    all_base_count = sum([base_counts.get(b, 0) for b in valid_bases])    \n",
    "    correct_gc_ratio = round(gc_count / all_base_count * 100) if len(sequence) > 0 else 0\n",
    "    return(correct_gc_ratio)"
   ]
  },
  {
   "cell_type": "code",
   "execution_count": 5,
   "metadata": {
    "collapsed": true
   },
   "outputs": [],
   "source": [
    "def top_marks(marks):\n",
    "    return(sorted(marks, reverse=True)[:5])"
   ]
  },
  {
   "cell_type": "code",
   "execution_count": 6,
   "metadata": {
    "collapsed": false
   },
   "outputs": [],
   "source": [
    "import random\n",
    "limit = lambda x, a, b: a if (x < a) else b if (x > b) else x \n",
    "num_marks = 25\n",
    "marks = [limit(round(random.normalvariate(50, 15)), 0, 100) for _ in range(num_marks)]"
   ]
  },
  {
   "cell_type": "code",
   "execution_count": 7,
   "metadata": {
    "collapsed": true
   },
   "outputs": [],
   "source": [
    "marks = [43, 32, 38, 64, 62, 41, 20, 40, 52, 45, 57, 50, 60, 70, 68, 50, 38, 44, 55, 57, 45, 50, 44, 44, 66]\n"
   ]
  },
  {
   "cell_type": "code",
   "execution_count": 8,
   "metadata": {
    "collapsed": false
   },
   "outputs": [
    {
     "data": {
      "text/plain": [
       "[70, 68, 66, 64, 62]"
      ]
     },
     "execution_count": 8,
     "metadata": {},
     "output_type": "execute_result"
    }
   ],
   "source": [
    "top_marks(marks)"
   ]
  },
  {
   "cell_type": "code",
   "execution_count": 9,
   "metadata": {
    "collapsed": false
   },
   "outputs": [
    {
     "name": "stdout",
     "output_type": "stream",
     "text": [
      "our scores: [4, 3, 2, 4, 2, 2, 4, 3, 3, 1]\n",
      "their scores: [0, 3, 2, 0, 3, 1, 2, 2, 0, 0]\n"
     ]
    }
   ],
   "source": [
    "num_games = 10\n",
    "our_scores = [random.randint(0, 4) for _ in range(num_games)]\n",
    "their_scores = [random.randint(0, 4) for _ in range(num_games)]\n",
    "print('our scores:', our_scores)\n",
    "print('their scores:', their_scores)"
   ]
  },
  {
   "cell_type": "code",
   "execution_count": 10,
   "metadata": {
    "collapsed": true
   },
   "outputs": [],
   "source": [
    "def team_points(ours, theirs):\n",
    "    total = 0\n",
    "    for i in range(len(ours)):\n",
    "        if ours[i] > theirs[i]:\n",
    "            total += 2\n",
    "        elif ours[i] == theirs[i]:\n",
    "            total += 1\n",
    "    return(total)"
   ]
  },
  {
   "cell_type": "code",
   "execution_count": 11,
   "metadata": {
    "collapsed": false
   },
   "outputs": [
    {
     "data": {
      "text/plain": [
       "16"
      ]
     },
     "execution_count": 11,
     "metadata": {},
     "output_type": "execute_result"
    }
   ],
   "source": [
    "team_points(our_scores, their_scores)"
   ]
  },
  {
   "cell_type": "code",
   "execution_count": 12,
   "metadata": {
    "collapsed": false
   },
   "outputs": [
    {
     "data": {
      "text/plain": [
       "<function __main__.team_points>"
      ]
     },
     "execution_count": 12,
     "metadata": {},
     "output_type": "execute_result"
    }
   ],
   "source": [
    "globals()['team_points']"
   ]
  },
  {
   "cell_type": "code",
   "execution_count": null,
   "metadata": {
    "collapsed": true
   },
   "outputs": [],
   "source": []
  }
 ],
 "metadata": {
  "kernelspec": {
   "display_name": "Python [Root]",
   "language": "python",
   "name": "Python [Root]"
  },
  "language_info": {
   "codemirror_mode": {
    "name": "ipython",
    "version": 3
   },
   "file_extension": ".py",
   "mimetype": "text/x-python",
   "name": "python",
   "nbconvert_exporter": "python",
   "pygments_lexer": "ipython3",
   "version": "3.5.2"
  }
 },
 "nbformat": 4,
 "nbformat_minor": 2
}

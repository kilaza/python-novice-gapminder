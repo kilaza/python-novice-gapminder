{
 "cells": [
  {
   "cell_type": "code",
   "execution_count": 15,
   "metadata": {
    "collapsed": true
   },
   "outputs": [],
   "source": [
    "def gc_content(sequence):\n",
    "    base_counts = dict()\n",
    "    valid_bases = set('ACTG')\n",
    "    for base in python_sequence:\n",
    "        base = base.upper()\n",
    "        if base in valid_bases:\n",
    "            base_counts[base] = base_counts.get(base, 0) + 1\n",
    "    gc_count = base_counts.get('G', 0) + base_counts.get('C', 0)\n",
    "    all_base_count = sum([base_counts.get(b, 0) for b in valid_bases]) \n",
    "    # to understand the next line\n",
    "    # google Python inline if\n",
    "    correct_gc_ratio = round(gc_count / all_base_count * 100) if len(sequence) > 0 else 0\n",
    "    return(correct_gc_ratio)"
   ]
  },
  {
   "cell_type": "code",
   "execution_count": 16,
   "metadata": {
    "collapsed": true
   },
   "outputs": [],
   "source": [
    "def top_marks(marks):\n",
    "    return(sorted(marks, reverse=True)[:5])"
   ]
  },
  {
   "cell_type": "code",
   "execution_count": 17,
   "metadata": {
    "collapsed": false
   },
   "outputs": [],
   "source": [
    "import random\n",
    "limit = lambda x, a, b: a if (x < a) else b if (x > b) else x \n",
    "num_marks = 25\n",
    "marks = [limit(round(random.normalvariate(50, 15)), 0, 100) for _ in range(num_marks)]"
   ]
  },
  {
   "cell_type": "code",
   "execution_count": 18,
   "metadata": {
    "collapsed": true
   },
   "outputs": [],
   "source": [
    "marks = [43, 32, 38, 64, 62, 41, 20, 40, 52, 45, 57, 50, 60, 70, 68, 50, 38, 44, 55, 57, 45, 50, 44, 44, 66]\n"
   ]
  },
  {
   "cell_type": "code",
   "execution_count": 19,
   "metadata": {
    "collapsed": false
   },
   "outputs": [
    {
     "data": {
      "text/plain": [
       "[70, 68, 66, 64, 62]"
      ]
     },
     "execution_count": 19,
     "metadata": {},
     "output_type": "execute_result"
    }
   ],
   "source": [
    "top_marks(marks)"
   ]
  },
  {
   "cell_type": "code",
   "execution_count": 20,
   "metadata": {
    "collapsed": false
   },
   "outputs": [
    {
     "name": "stdout",
     "output_type": "stream",
     "text": [
      "our scores: [4, 2, 2, 2, 4, 4, 1, 2, 0, 2]\n",
      "their scores: [4, 4, 2, 0, 3, 3, 0, 1, 0, 0]\n"
     ]
    }
   ],
   "source": [
    "num_games = 10\n",
    "our_scores = [random.randint(0, 4) for _ in range(num_games)]\n",
    "their_scores = [random.randint(0, 4) for _ in range(num_games)]\n",
    "print('our scores:', our_scores)\n",
    "print('their scores:', their_scores)"
   ]
  },
  {
   "cell_type": "code",
   "execution_count": 21,
   "metadata": {
    "collapsed": true
   },
   "outputs": [],
   "source": [
    "def team_points(ours, theirs):\n",
    "    total = 0\n",
    "    for i in range(len(ours)):\n",
    "        if ours[i] > theirs[i]:\n",
    "            total += 2\n",
    "        elif ours[i] == theirs[i]:\n",
    "            total += 1\n",
    "    return(total)"
   ]
  },
  {
   "cell_type": "code",
   "execution_count": 22,
   "metadata": {
    "collapsed": false
   },
   "outputs": [
    {
     "data": {
      "text/plain": [
       "15"
      ]
     },
     "execution_count": 22,
     "metadata": {},
     "output_type": "execute_result"
    }
   ],
   "source": [
    "team_points(our_scores, their_scores)"
   ]
  },
  {
   "cell_type": "code",
   "execution_count": 23,
   "metadata": {
    "collapsed": false
   },
   "outputs": [
    {
     "data": {
      "text/plain": [
       "<function __main__.team_points>"
      ]
     },
     "execution_count": 23,
     "metadata": {},
     "output_type": "execute_result"
    }
   ],
   "source": [
    "globals()['team_points']"
   ]
  },
  {
   "cell_type": "code",
   "execution_count": 24,
   "metadata": {
    "collapsed": false
   },
   "outputs": [],
   "source": [
    "# we can copy the marks list to avoid aliasing\n",
    "def top_marks2(marks):\n",
    "    marks_copy = marks[:]  # make a copy of marks\n",
    "    marks_copy.sort(reverse=True)\n",
    "    return(marks_copy[:5])"
   ]
  },
  {
   "cell_type": "code",
   "execution_count": 25,
   "metadata": {
    "collapsed": false
   },
   "outputs": [
    {
     "data": {
      "text/plain": [
       "[70, 68, 66, 64, 62]"
      ]
     },
     "execution_count": 25,
     "metadata": {},
     "output_type": "execute_result"
    }
   ],
   "source": [
    "outside_marks = [43, 32, 38, 64, 62, 41, 20, 40, 52, 45, 57, 50, 60, 70, 68, 50, 38, 44, 55, 57, 45, 50, 44, 44, 66]\n",
    "top_marks2(outside_marks)"
   ]
  },
  {
   "cell_type": "code",
   "execution_count": 26,
   "metadata": {
    "collapsed": false
   },
   "outputs": [
    {
     "name": "stdout",
     "output_type": "stream",
     "text": [
      "[43, 32, 38, 64, 62, 41, 20, 40, 52, 45, 57, 50, 60, 70, 68, 50, 38, 44, 55, 57, 45, 50, 44, 44, 66]\n"
     ]
    }
   ],
   "source": [
    "print(outside_marks)"
   ]
  },
  {
   "cell_type": "code",
   "execution_count": 27,
   "metadata": {
    "collapsed": false
   },
   "outputs": [
    {
     "data": {
      "text/plain": [
       "4"
      ]
     },
     "execution_count": 27,
     "metadata": {},
     "output_type": "execute_result"
    }
   ],
   "source": [
    "int(4.7)"
   ]
  },
  {
   "cell_type": "code",
   "execution_count": 28,
   "metadata": {
    "collapsed": true
   },
   "outputs": [],
   "source": [
    "# after some hints from pylint\n",
    "# install pylint with\n",
    "# conda install pylint\n",
    "def team_points2(ours, theirs):\n",
    "    total = 0\n",
    "    for i, score in enumerate(ours):\n",
    "        if score > theirs[i]:\n",
    "            total += 2\n",
    "        elif score == theirs[i]:\n",
    "            total += 1\n",
    "    return(total)"
   ]
  },
  {
   "cell_type": "code",
   "execution_count": 30,
   "metadata": {
    "collapsed": false
   },
   "outputs": [
    {
     "data": {
      "text/plain": [
       "15"
      ]
     },
     "execution_count": 30,
     "metadata": {},
     "output_type": "execute_result"
    }
   ],
   "source": [
    "team_points2(our_scores, their_scores)"
   ]
  },
  {
   "cell_type": "code",
   "execution_count": 32,
   "metadata": {
    "collapsed": false
   },
   "outputs": [
    {
     "data": {
      "text/plain": [
       "[(0, 4),\n",
       " (1, 2),\n",
       " (2, 2),\n",
       " (3, 2),\n",
       " (4, 4),\n",
       " (5, 4),\n",
       " (6, 1),\n",
       " (7, 2),\n",
       " (8, 0),\n",
       " (9, 2)]"
      ]
     },
     "execution_count": 32,
     "metadata": {},
     "output_type": "execute_result"
    }
   ],
   "source": [
    "list(enumerate(our_scores))"
   ]
  },
  {
   "cell_type": "code",
   "execution_count": 33,
   "metadata": {
    "collapsed": false
   },
   "outputs": [
    {
     "name": "stdout",
     "output_type": "stream",
     "text": [
      "[4, 2, 2, 2, 4, 4, 1, 2, 0, 2]\n"
     ]
    }
   ],
   "source": [
    "print(our_scores)"
   ]
  },
  {
   "cell_type": "code",
   "execution_count": 34,
   "metadata": {
    "collapsed": true
   },
   "outputs": [],
   "source": [
    "# _ is the anonymous variable\n",
    "# you can use it where you need a variable name\n",
    "# but you will never look up the value\n",
    "def team_points3(ours, theirs):\n",
    "    total = 0\n",
    "    for i, _ in enumerate(ours):\n",
    "        if ours[i] > theirs[i]:\n",
    "            total += 2\n",
    "        elif ours[i] == theirs[i]:\n",
    "            total += 1\n",
    "    return(total)"
   ]
  },
  {
   "cell_type": "code",
   "execution_count": 36,
   "metadata": {
    "collapsed": false
   },
   "outputs": [
    {
     "data": {
      "text/plain": [
       "15"
      ]
     },
     "execution_count": 36,
     "metadata": {},
     "output_type": "execute_result"
    }
   ],
   "source": [
    "team_points3(our_scores, their_scores)"
   ]
  },
  {
   "cell_type": "code",
   "execution_count": null,
   "metadata": {
    "collapsed": true
   },
   "outputs": [],
   "source": []
  }
 ],
 "metadata": {
  "kernelspec": {
   "display_name": "Python [Root]",
   "language": "python",
   "name": "Python [Root]"
  },
  "language_info": {
   "codemirror_mode": {
    "name": "ipython",
    "version": 3
   },
   "file_extension": ".py",
   "mimetype": "text/x-python",
   "name": "python",
   "nbconvert_exporter": "python",
   "pygments_lexer": "ipython3",
   "version": "3.5.2"
  }
 },
 "nbformat": 4,
 "nbformat_minor": 2
}

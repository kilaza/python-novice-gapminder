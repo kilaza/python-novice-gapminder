{
 "cells": [
  {
   "cell_type": "code",
   "execution_count": 207,
   "metadata": {
    "collapsed": true
   },
   "outputs": [],
   "source": [
    "import random\n",
    "import requests\n",
    "import functools"
   ]
  },
  {
   "cell_type": "code",
   "execution_count": 20,
   "metadata": {
    "collapsed": true
   },
   "outputs": [],
   "source": [
    "limit = lambda x, a, b: a if (x < a) else b if (x > b) else x "
   ]
  },
  {
   "cell_type": "code",
   "execution_count": 145,
   "metadata": {
    "collapsed": false
   },
   "outputs": [
    {
     "name": "stdout",
     "output_type": "stream",
     "text": [
      "[43, 32, 38, 64, 62, 41, 20, 40, 52, 45, 57, 50, 60, 70, 68, 50, 38, 44, 55, 57, 45, 50, 44, 44, 66]\n"
     ]
    }
   ],
   "source": [
    "num_marks = 25\n",
    "marks = [limit(round(random.normalvariate(50, 15)), 0, 100) for _ in range(num_marks)]\n",
    "marks = [43, 32, 38, 64, 62, 41, 20, 40, 52, 45, 57, 50, 60, 70, 68, 50, 38, 44, 55, 57, 45, 50, 44, 44, 66]\n",
    "print(marks) "
   ]
  },
  {
   "cell_type": "code",
   "execution_count": 144,
   "metadata": {
    "collapsed": false
   },
   "outputs": [
    {
     "name": "stdout",
     "output_type": "stream",
     "text": [
      "our scores: [4, 4, 0, 4, 4, 0, 0, 4, 2, 4]\n",
      "their scores: [2, 3, 3, 2, 4, 0, 3, 0, 0, 1]\n"
     ]
    }
   ],
   "source": [
    "num_games = 10\n",
    "our_scores = [random.randint(0, 4) for _ in range(num_games)]\n",
    "their_scores = [random.randint(0, 4) for _ in range(num_games)]\n",
    "\n",
    "our_scores = [4, 4, 0, 4, 4, 0, 0, 4, 2, 4]\n",
    "their_scores = [2, 3, 3, 2, 4, 0, 3, 0, 0, 1]\n",
    "print('our scores:', our_scores)\n",
    "print('their scores:', their_scores)"
   ]
  },
  {
   "cell_type": "code",
   "execution_count": 91,
   "metadata": {
    "collapsed": false
   },
   "outputs": [],
   "source": [
    "python_sequence = \"\"\"TTTACCAAAAACATAACCTTTAGCTAAAACCAGTATTAAAGGCAATGCCTGCCCAGTGAG\n",
    "ACCTTCTTCAACGGCCGCGGTACCCTAACCGTGCAAAGGTAGCGTAATCACTTGTCTATT\n",
    "AATTGTAGACCCGTATGAAAGGCCACATGAAAGTCAGACTGTCTCTTGTAATTAATCAAT\n",
    "TAAACTGATCTTCCAGTACAAAAGCTGAAATGAACATATAAGACCAGAAGACCCTGTGAA\n",
    "GCTTAAATTAACCTACTAAAACCCATAGTAGCTACTTTCAGTTGGGGCGACTTTGGAACA\n",
    "AAACAAAACTTCCAAGCACCATGAGCTATCCCTCATACACCAGGCCAACAAGCCACCACA\n",
    "AGACCCAGTAACACTGATAACCGAACCAAGTTACTCCAGGGATAACAGCGCCATCTTCTT\n",
    "TAAGAGCCCATATCAAAAAGAAGGTTTACGACCTCGATGTTGGATCAGGACACCCAGGTG\n",
    "GTGCAACCGCTACCAAAGGTTCGTTTGTTCAACGATTAACAGTCCCACGTGATCTGAGTT\n",
    "CAGACCGGAGCAATCCAGGTCAGTTTCTATCTATAAAAAGCCCTTTCTAGTACGAAAGGA\n",
    "CCGAAAGAGCAAAGCCAATACCAAAAGCACGCTTTAACAAAAAATATAAATAAACTCAAT\"\"\""
   ]
  },
  {
   "cell_type": "code",
   "execution_count": 155,
   "metadata": {
    "collapsed": true
   },
   "outputs": [],
   "source": [
    "url_base = 'http://192.168.2.101:5000/'"
   ]
  },
  {
   "cell_type": "code",
   "execution_count": 248,
   "metadata": {
    "collapsed": true
   },
   "outputs": [],
   "source": [
    "def test_answer(func_name, *parameters):\n",
    "    correct = False\n",
    "\n",
    "    if func_name in globals():\n",
    "        try:\n",
    "            func = globals()[func_name]\n",
    "            answer = func(*parameters)\n",
    "        except:\n",
    "            pass\n",
    "        else:\n",
    "            try:\n",
    "                r = requests.post('http://localhost:5000/test_' + func_name, json=dict(parameters=parameters, answer=answer))\n",
    "            except requests.ConnectionError:\n",
    "                r = requests.post(url_base + 'test_' + func_name, json=dict(parameters=parameters, answer=answer))                \n",
    "            if r.status_code == 200:\n",
    "                correct = r.json().get('correct', False)\n",
    "    return(correct)\n",
    "test_top_marks = functools.partial(test_answer, 'top_marks')\n",
    "test_gc_content = functools.partial(test_answer, 'gc_content')\n",
    "test_team_points = functools.partial(test_answer, 'team_points')"
   ]
  },
  {
   "cell_type": "code",
   "execution_count": 249,
   "metadata": {
    "collapsed": false
   },
   "outputs": [
    {
     "data": {
      "text/plain": [
       "False"
      ]
     },
     "execution_count": 249,
     "metadata": {},
     "output_type": "execute_result"
    }
   ],
   "source": [
    "test_top_marks(marks)"
   ]
  },
  {
   "cell_type": "code",
   "execution_count": 263,
   "metadata": {
    "collapsed": false
   },
   "outputs": [
    {
     "data": {
      "text/plain": [
       "False"
      ]
     },
     "execution_count": 263,
     "metadata": {},
     "output_type": "execute_result"
    }
   ],
   "source": [
    "test_gc_content(python_sequence)"
   ]
  },
  {
   "cell_type": "code",
   "execution_count": 241,
   "metadata": {
    "collapsed": false
   },
   "outputs": [
    {
     "data": {
      "text/plain": [
       "False"
      ]
     },
     "execution_count": 241,
     "metadata": {},
     "output_type": "execute_result"
    }
   ],
   "source": [
    "test_team_points(our_scores, their_scores)"
   ]
  },
  {
   "cell_type": "markdown",
   "metadata": {},
   "source": [
    "**Problem 1**: Write a function `top_marks(marks)` that takes as its single parameter a list of integers. This list will contain at least 5 marks. It should return the top 5 marks from this list. You can use the `marks` list in this notebook as sample input, the correct answer is `[73, 69, 68, 68, 68]`."
   ]
  },
  {
   "cell_type": "markdown",
   "metadata": {},
   "source": [
    "**Problem 2**: The [GC content](https://en.wikipedia.org/wiki/GC-content) of a DNA molecule is the percentage of bases in the molecule that are guanine or cytosine bases. Write a function `gc_content(sequence)` that returns the integer GC content of the string `sequence`. You can test using the `python_sequence` string in this notebook for which the correct answer is `42`.  "
   ]
  },
  {
   "cell_type": "markdown",
   "metadata": {},
   "source": [
    "**Problem 3:** You manage a soccer team. The scores from recent matches are in two lists, `our_scores` and `their_scores`. The lists have the same number of elements and the elements of the lists  are matched, so e.g. `our_scores[0]` is the score your team achieved in the first game of the season, and `their scores[0]` is the score your opponents achieved in that same match. If your score is less than their score, you lose, and get zero points. If your score is greater than their score, you win, and get 2 points. If the scores are equal, you drew and get 1 point.\n",
    "\n",
    "Write a function `team_points(our_scores, their_scores)` that takes two list parameters and returns the number of points your team was awarded based on the two lists of scores. You can use the `our_scores` and `their_scores` lists as inputs to test with, in which case the number of points returned should be `14`."
   ]
  },
  {
   "cell_type": "markdown",
   "metadata": {},
   "source": [
    "You can use the test functions above to test if your code is correct."
   ]
  },
  {
   "cell_type": "code",
   "execution_count": null,
   "metadata": {
    "collapsed": true
   },
   "outputs": [],
   "source": []
  }
 ],
 "metadata": {
  "kernelspec": {
   "display_name": "Python [Root]",
   "language": "python",
   "name": "Python [Root]"
  },
  "language_info": {
   "codemirror_mode": {
    "name": "ipython",
    "version": 3
   },
   "file_extension": ".py",
   "mimetype": "text/x-python",
   "name": "python",
   "nbconvert_exporter": "python",
   "pygments_lexer": "ipython3",
   "version": "3.5.2"
  }
 },
 "nbformat": 4,
 "nbformat_minor": 2
}
